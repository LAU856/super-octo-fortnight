{
 "cells": [
  {
   "cell_type": "markdown",
   "metadata": {},
   "source": [
    "# Functions"
   ]
  },
  {
   "cell_type": "markdown",
   "metadata": {},
   "source": [
    "Let's start with a simple function:\n",
    "\n",
    "* Let's write a function that allows us to exit at the square root of a number. We'll call it `sqrt()`."
   ]
  },
  {
   "cell_type": "code",
   "execution_count": 17,
   "metadata": {},
   "outputs": [
    {
     "name": "stdout",
     "output_type": "stream",
     "text": [
      "the square root of 5 is 2.24\n"
     ]
    }
   ],
   "source": [
    "def sqrt2(number):\n",
    "    try:\n",
    "        result = number**0.5\n",
    "    except ValueError:\n",
    "        \"\"\"if its not a number\"\"\"\n",
    "        print(\"the value its not valid\")\n",
    "    else:    \n",
    "        print(\"the square root of {} is {:4.2f}\".format(number,result))\n",
    "sqrt2(5)           "
   ]
  },
  {
   "cell_type": "code",
   "execution_count": 28,
   "metadata": {},
   "outputs": [
    {
     "name": "stdin",
     "output_type": "stream",
     "text": [
      "entrez un nombre 9\n"
     ]
    },
    {
     "name": "stdout",
     "output_type": "stream",
     "text": [
      "the square root of 9.0 is 3.0\n"
     ]
    }
   ],
   "source": [
    "def sqrt3():\n",
    "    try:\n",
    "        sqrta = float(input(\"entrez un nombre\"))\n",
    "    \n",
    "        if type(sqrta) == str or sqrta < 0 :\n",
    "            raise ValueError\n",
    "        results = sqrta**0.5\n",
    "        print (\"the square root of {} is {}\".format(sqrta,results))\n",
    "    except ValueError:\n",
    "        print(\"not correct\")\n",
    "        \n",
    "\n",
    "sqrt3()\n",
    "\n",
    "        "
   ]
  },
  {
   "cell_type": "code",
   "execution_count": 34,
   "metadata": {},
   "outputs": [
    {
     "name": "stdin",
     "output_type": "stream",
     "text": [
      "entrez un nombre ol\n"
     ]
    },
    {
     "name": "stdout",
     "output_type": "stream",
     "text": [
      "please enter a number not a str\n"
     ]
    }
   ],
   "source": [
    "def sqrt5():\n",
    "    try:\n",
    "        number=input(\"entrez un nombre\")\n",
    "        number=float(number)\n",
    "        results=number**0.5\n",
    "    except:\n",
    "        if type(number) == str :\n",
    "            print(\"please enter a number not a str\")\n",
    "    else:\n",
    "        print(\"the sqrt of\", number,\"is\", results)\n",
    "        return results\n",
    "sqrt5()"
   ]
  },
  {
   "cell_type": "code",
   "execution_count": 35,
   "metadata": {},
   "outputs": [],
   "source": [
    "def sqrt4(num):\n",
    "    try:\n",
    "        results=num**0.5\n",
    "        return results\n",
    "    except:\n",
    "        if type(num) == str:\n",
    "            print('not ok')"
   ]
  },
  {
   "cell_type": "code",
   "execution_count": 36,
   "metadata": {},
   "outputs": [
    {
     "name": "stdout",
     "output_type": "stream",
     "text": [
      "not ok\n"
     ]
    }
   ],
   "source": [
    "sqrt4('no')"
   ]
  },
  {
   "cell_type": "code",
   "execution_count": null,
   "metadata": {},
   "outputs": [],
   "source": []
  },
  {
   "cell_type": "code",
   "execution_count": null,
   "metadata": {},
   "outputs": [],
   "source": []
  },
  {
   "cell_type": "code",
   "execution_count": null,
   "metadata": {},
   "outputs": [],
   "source": []
  }
 ],
 "metadata": {
  "kernelspec": {
   "display_name": "Python 3",
   "language": "python",
   "name": "python3"
  },
  "language_info": {
   "codemirror_mode": {
    "name": "ipython",
    "version": 3
   },
   "file_extension": ".py",
   "mimetype": "text/x-python",
   "name": "python",
   "nbconvert_exporter": "python",
   "pygments_lexer": "ipython3",
   "version": "3.8.5"
  }
 },
 "nbformat": 4,
 "nbformat_minor": 4
}
