{
 "cells": [
  {
   "cell_type": "code",
   "execution_count": 4,
   "metadata": {},
   "outputs": [
    {
     "name": "stdin",
     "output_type": "stream",
     "text": [
      "the total amount he wishes to place 90\n",
      "the number of years he wants to invest his money for 90\n",
      "the interest rate expected 0.9\n"
     ]
    },
    {
     "name": "stdout",
     "output_type": "stream",
     "text": [
      "you acheive 7290.0 of savings.\n",
      "Congrats!\n"
     ]
    },
    {
     "data": {
      "text/plain": [
       "7290.0"
      ]
     },
     "execution_count": 4,
     "metadata": {},
     "output_type": "execute_result"
    }
   ],
   "source": [
    "def savings():\n",
    "    try:\n",
    "        total_of_savings = float(input(\"the total amount he wishes to place\"))\n",
    "        total_of_years = int(input(\"the number of years he wants to invest his money for\"))\n",
    "        interest = float(input(\"the interest rate expected\"))\n",
    "        if (total_of_savings<=0) or (total_of_years<=0):\n",
    "            raise ValueError\n",
    "        #elif type(total_of_savings)== str or type(total_of_years)== str or type(interest) == str :\n",
    "             #raise TypeError\n",
    "        elif interest < 0:\n",
    "             raise Exception\n",
    "        results = total_of_savings*total_of_years*interest\n",
    "    except ValueError:\n",
    "            print(\"please enter a positive number\")\n",
    "    #except TypeError:\n",
    "            #print(\"please enter a number\")\n",
    "    except Exception:\n",
    "            print(\"please enter a float\")\n",
    "    else:\n",
    "        print(\"you acheive\",results, \"of savings.\\nCongrats!\")\n",
    "        return results\n",
    "savings()\n"
   ]
  },
  {
   "cell_type": "code",
   "execution_count": null,
   "metadata": {},
   "outputs": [],
   "source": []
  },
  {
   "cell_type": "code",
   "execution_count": null,
   "metadata": {
    "jupyter": {
     "source_hidden": true
    }
   },
   "outputs": [],
   "source": []
  }
 ],
 "metadata": {
  "kernelspec": {
   "display_name": "Python 3",
   "language": "python",
   "name": "python3"
  },
  "language_info": {
   "codemirror_mode": {
    "name": "ipython",
    "version": 3
   },
   "file_extension": ".py",
   "mimetype": "text/x-python",
   "name": "python",
   "nbconvert_exporter": "python",
   "pygments_lexer": "ipython3",
   "version": "3.8.6"
  }
 },
 "nbformat": 4,
 "nbformat_minor": 4
}
