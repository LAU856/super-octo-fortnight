{
 "cells": [
  {
   "cell_type": "markdown",
   "metadata": {
    "id": "FY347VxWs_bJ"
   },
   "source": [
    "# Build a quizz\n",
    "\n",
    "---\n",
    "\n",
    "\n"
   ]
  },
  {
   "cell_type": "markdown",
   "metadata": {
    "id": "qJizpyqVwYnF"
   },
   "source": [
    "Let's tackle our first project together. Find a partner and start coding a quiz together! Your program should: \n",
    "\n",
    "1. Ask a question to a user via the console \n",
    "2. Verify whether the answer is correct or not \n",
    "3. If the answer is correct, you should print out: `Good job! This is the right answer`\n",
    "\n",
    "* Else, it should print out : `Too bad! that is not the correct answer`\n",
    "\n",
    "4. Ask three questions following this model.\n",
    "\n"
   ]
  },
  {
   "cell_type": "code",
   "execution_count": 1,
   "metadata": {
    "colab": {
     "base_uri": "https://localhost:8080/"
    },
    "id": "EQxWuVl7yFoU",
    "outputId": "c1864b8f-13b2-42ec-ad81-1b3e0bf188cd"
   },
   "outputs": [
    {
     "name": "stdin",
     "output_type": "stream",
     "text": [
      "what is the name of the current queen in UK  elisabeth\n"
     ]
    },
    {
     "name": "stdout",
     "output_type": "stream",
     "text": [
      "Too bad! that is not the correct answer. Try again\n"
     ]
    },
    {
     "name": "stdin",
     "output_type": "stream",
     "text": [
      "what is the name of the current queen in UK  Elisabeth\n"
     ]
    },
    {
     "name": "stdout",
     "output_type": "stream",
     "text": [
      "Good job ! This is the right answer\n"
     ]
    }
   ],
   "source": [
    "question = input(\"what is the name of the current queen in UK \")\n",
    "answer = \"Elisabeth\"\n",
    "compteur = 3\n",
    "while compteur > 1 :\n",
    "    if question != answer: \n",
    "        print (\"Too bad! that is not the correct answer. Try again\")\n",
    "    question_2 = input(\"what is the name of the current queen in UK \")  \n",
    "    compteur-=1 \n",
    "    if question_2 == answer:\n",
    "        print (\"Good job ! This is the right answer\")\n",
    "        break\n",
    "    if question == answer :\n",
    "        print (\"Good job ! This is the right answer\")\n",
    "        break\n",
    "\n",
    "  "
   ]
  },
  {
   "cell_type": "code",
   "execution_count": 29,
   "metadata": {},
   "outputs": [],
   "source": [
    "answer_1 = \"purple\"\n",
    "answer_2 = 4 \n",
    "answer_3 = \"Emmanuel\"\n",
    "counter = 0\n",
    "\n",
    "#question_1 = \"what colour do you get when you mix bleu and red\"\n",
    "#question_2 = input(\"what is the results of 2+2\")\n",
    "#question_3 = input(\"what is the first name of the current french president\")\n",
    "\n",
    "running_1 = True\n",
    "running_2 = True\n",
    "running_3 = True\n",
    "\n",
    "while counter < 3 and running_1:\n",
    "    question_1 = input(\"what colour do you get when you mix bleu and red\")\n",
    "    if question_1 == answer_1:\n",
    "        print(\"congrats you acheive the next question\")\n",
    "        break\n",
    "    elif question_1 != answer_1 :\n",
    "        counter+=1\n",
    "        print(\"try again\")\n",
    "        question_1\n",
    "        if counter == 3:\n",
    "            print(\"you lost the game\")\n",
    "            running_1 = False\n",
    "            break\n",
    "while counter < 3 and running_2:\n",
    "    question_2 = int(input(\"what is the results of 2+2\"))\n",
    "    if question_2 == answer_2:\n",
    "        print(\"congrats you acheive the next question\")\n",
    "        break\n",
    "    elif question_2 != answer_2 :\n",
    "        counter+=1\n",
    "        print(\"try again\")\n",
    "        question_2\n",
    "        if counter == 3:\n",
    "            print(\"you lost the game\")\n",
    "            running_2 = False\n",
    "            break\n",
    "while counter < 3 and running_3:\n",
    "    question_3 = input(\"what is the first name of the current french president\")\n",
    "    if question_3 == answer_3:\n",
    "        print(\"congrats you win the game\")\n",
    "        break\n",
    "    elif question_3 != answer_3 :\n",
    "        counter+=1\n",
    "        print(\"try again\")\n",
    "        question_3\n",
    "        if counter == 3:\n",
    "            print(\"you lost the game\")\n",
    "            running_2 = False\n",
    "            break"
   ]
  },
  {
   "cell_type": "markdown",
   "metadata": {
    "id": "sLMbYgaOyxiX"
   },
   "source": [
    "There's a problem with our quizz : if the user has not given the right answer, the program goes to next question. We would rather like to ask again the same question if the answer was wrong.\n",
    "\n",
    "5. Using a `while` loop, make sure that the same question will be asked again when the answer was wrong\n",
    "\n",
    "6. Rewrite your code such that this behaviour is applied to all questions."
   ]
  },
  {
   "cell_type": "code",
   "execution_count": null,
   "metadata": {
    "id": "csyxqJzBxPfN"
   },
   "outputs": [],
   "source": []
  },
  {
   "cell_type": "markdown",
   "metadata": {
    "id": "nh4voWn8x3dM"
   },
   "source": [
    "Now, we would like to tackle a last problem : we want to allow only 3 wrong answers (among all questions).\n",
    "\n",
    "7. Improve your code : if the user makes 3 wrong answers, the program should stop and print (\"Too bad, you lost the game !\")\n"
   ]
  }
 ],
 "metadata": {
  "colab": {
   "collapsed_sections": [],
   "name": "01_Build_a_quiz_part1_solution.ipynb",
   "provenance": []
  },
  "kernelspec": {
   "display_name": "Python 3",
   "language": "python",
   "name": "python3"
  },
  "language_info": {
   "codemirror_mode": {
    "name": "ipython",
    "version": 3
   },
   "file_extension": ".py",
   "mimetype": "text/x-python",
   "name": "python",
   "nbconvert_exporter": "python",
   "pygments_lexer": "ipython3",
   "version": "3.8.6"
  }
 },
 "nbformat": 4,
 "nbformat_minor": 4
}
