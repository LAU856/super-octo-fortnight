{
 "cells": [
  {
   "cell_type": "markdown",
   "metadata": {
    "colab_type": "text",
    "id": "6cqYL_Y0rfoH"
   },
   "source": [
    "# Imputer"
   ]
  },
  {
   "cell_type": "markdown",
   "metadata": {
    "colab_type": "text",
    "id": "sB61JRG-rj6v"
   },
   "source": [
    "_In data science, it's common for there to be missing values in a dataset. Let's see how we can create a class that will allow us to replace this missing value by the average of the values in the list_"
   ]
  },
  {
   "cell_type": "markdown",
   "metadata": {
    "colab_type": "text",
    "id": "nvclKDGOrlV3"
   },
   "source": [
    "1. _Create a class that we will call Imputer_.\n",
    "2. _To simplify the exercise, we will only deal with lists for the moment._\n",
    "3. _Our class will take an attribute that we will call list_.\n",
    "4. _Create an avg() function that will first remove the missing value and then replace it with the average of the list._"
   ]
  },
  {
   "cell_type": "code",
   "execution_count": 3,
   "metadata": {
    "colab": {
     "base_uri": "https://localhost:8080/",
     "height": 52
    },
    "colab_type": "code",
    "id": "4agC-7RLrQSp",
    "outputId": "c98a0475-d2f7-4e53-e3b3-e45b2c1874ff"
   },
   "outputs": [
    {
     "name": "stdout",
     "output_type": "stream",
     "text": [
      "[2.33, 1, 2, 4, 2.33]\n"
     ]
    }
   ],
   "source": [
    "class Imputer():\n",
    "    def avg(self, liste):\n",
    "        while None in liste:\n",
    "            liste.remove(None)\n",
    "        print(liste) \n",
    "    \n",
    "    def moyenne(self,liste):\n",
    "        compteur = 0\n",
    "        list_vide=[]\n",
    "        list_complet = liste [:]\n",
    "        for element in liste :\n",
    "            if type(element) == int or type(element) == float :\n",
    "                compteur+=element\n",
    "                list_vide.append(element)\n",
    "        moyenne=round(compteur/len(list_vide),2)\n",
    "        \n",
    "        for index,items in enumerate(list_complet):\n",
    "            if items == None :\n",
    "                list_complet[index] = moyenne\n",
    "        print(list_complet)\n",
    "        \n",
    "\n",
    "imputer1=Imputer()\n",
    "imputer1.moyenne([None,1, 2, 4,None])\n",
    "\n"
   ]
  },
  {
   "cell_type": "code",
   "execution_count": 22,
   "metadata": {},
   "outputs": [
    {
     "name": "stdout",
     "output_type": "stream",
     "text": [
      "3\n",
      "[None, 1, 2, 4, None]\n"
     ]
    }
   ],
   "source": [
    "def booucle_for(self,liste):\n",
    "    i=0\n",
    "    cp_list = []\n",
    "    copy_list = liste.copy()\n",
    "    dic_1 = { None: mean}\n",
    "    while i != len(liste) :\n",
    "        for index, items in enumerate(liste):\n",
    "            if items == None :\n",
    "                print(index)\n",
    "        i+=1\n",
    "    print(cp_list)\n",
    "    print (copy_list)\n",
    "\n",
    "imputer=Imputer()\n",
    "imputer.booucle_for([None,1, 2, 4,None])"
   ]
  },
  {
   "cell_type": "markdown",
   "metadata": {
    "colab_type": "text",
    "id": "bc7K3aMYr9uH"
   },
   "source": [
    "# Improve Imputer\n",
    "\n",
    "_We have created our Imputer class which works very well for replacing missing values with averages. But, couldn't we also use this class to replace with a median? Try to add a method in Imputer that will allow us to replace the list with either the average or the median._"
   ]
  },
  {
   "cell_type": "code",
   "execution_count": 11,
   "metadata": {
    "colab": {
     "base_uri": "https://localhost:8080/",
     "height": 86
    },
    "colab_type": "code",
    "id": "vWlNZ5nDrqPa",
    "outputId": "b80570c6-7d61-4ee6-8da0-deefadcf6f3e"
   },
   "outputs": [
    {
     "data": {
      "text/plain": [
       "[5, 5, 7, 9, 0, 3, 5]"
      ]
     },
     "execution_count": 11,
     "metadata": {},
     "output_type": "execute_result"
    }
   ],
   "source": [
    "class Imputer():\n",
    "    def med(self,list_):\n",
    "        list__= list_[:]\n",
    "        listA = []\n",
    "        counter=0\n",
    "        \n",
    "        for element in list_:\n",
    "            if type(element) == int or type(element) == float:\n",
    "                listA.append(element)\n",
    "        \n",
    "        listA.sort()\n",
    "        n=len(listA)\n",
    "        if len(listA) % 2 == 0 :\n",
    "            median1 = listA[n//2] \n",
    "            median2 = listA[n//2 - 1] \n",
    "            median = (median1 + median2)/2\n",
    "            \n",
    "        else:\n",
    "            median = listA[n//2] \n",
    "            \n",
    "        \n",
    "        for index,element in enumerate(list__):\n",
    "            if element == None :\n",
    "                list__[index] = median\n",
    "        return list__\n",
    "\n",
    "imputer=Imputer()\n",
    "imputer.med([None,5,7,9,0,3,None,])"
   ]
  },
  {
   "cell_type": "code",
   "execution_count": null,
   "metadata": {},
   "outputs": [],
   "source": []
  }
 ],
 "metadata": {
  "colab": {
   "collapsed_sections": [],
   "name": "Imputer - Exercice S1-3.ipynb",
   "provenance": [],
   "version": "0.3.2"
  },
  "kernelspec": {
   "display_name": "Python 3",
   "language": "python",
   "name": "python3"
  },
  "language_info": {
   "codemirror_mode": {
    "name": "ipython",
    "version": 3
   },
   "file_extension": ".py",
   "mimetype": "text/x-python",
   "name": "python",
   "nbconvert_exporter": "python",
   "pygments_lexer": "ipython3",
   "version": "3.8.6"
  }
 },
 "nbformat": 4,
 "nbformat_minor": 4
}
