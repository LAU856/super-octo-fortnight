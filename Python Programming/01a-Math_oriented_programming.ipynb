{
 "cells": [
  {
   "cell_type": "markdown",
   "metadata": {
    "colab_type": "text",
    "id": "ARXMbV_Vp5qc"
   },
   "source": [
    "# Mathematically Oriented Programming"
   ]
  },
  {
   "cell_type": "markdown",
   "metadata": {
    "colab_type": "text",
    "id": "1JYqlALqp73y"
   },
   "source": [
    "_Mathematics, in general, we don't like to do it. Especially when it involves repeating operations, over and over again. Let's be real lazy and create a class that will do the operations we want for us._"
   ]
  },
  {
   "cell_type": "markdown",
   "metadata": {
    "colab_type": "text",
    "id": "Lc3ol0PSp98l"
   },
   "source": [
    "1. _Create a class to be called \"math.\"_\n",
    "2. _This class will have no internal attributes, so you don't need to define an init() _\n",
    "3. _Create a method that will compute the square root of any number._\n",
    "4. _Create a method that will calculate the average of any list of numbers._\n",
    "5. _Create a method to find out if a number is even or odd_.\n",
    "6. _Finally, create a method that will give the total sum of a list of numbers._\n"
   ]
  },
  {
   "cell_type": "code",
   "execution_count": 28,
   "metadata": {
    "colab": {
     "base_uri": "https://localhost:8080/",
     "height": 104
    },
    "colab_type": "code",
    "id": "xFLBlgj1pndw",
    "outputId": "44506b62-75cb-416a-895e-848ef632a530"
   },
   "outputs": [],
   "source": [
    "class Math():\n",
    "    def sqrt(self,number):\n",
    "        result_sqrt=number**0.5\n",
    "        print(f\"the square root of {number} is {result_sqrt}\")\n",
    "    def avg_list(self,inpt_list):\n",
    "        calculator=0\n",
    "        for items in inpt_list:\n",
    "            calculator+=items\n",
    "        result_avg_list = calculator/len(inpt_list)\n",
    "        print(f\"the average of {inpt_list} is {result_avg_list}\")\n",
    "    def even_or_not(self,inpt_even_or_not):\n",
    "        if inpt_even_or_not%2 == 0:\n",
    "            print(f\"{inpt_even_or_not} is even\")\n",
    "        elif inpt_even_or_not%2 != 0:\n",
    "            print(f\"{inpt_even_or_not} is odd\")\n",
    "    def total_sum(self,inpt_sum):\n",
    "        add=0\n",
    "        for items in inpt_sum:\n",
    "            add+=items\n",
    "        print(f\"the sum of {inpt_sum} is {add}\")"
   ]
  },
  {
   "cell_type": "code",
   "execution_count": 29,
   "metadata": {
    "colab": {},
    "colab_type": "code",
    "id": "zTLqevqKqBp0"
   },
   "outputs": [
    {
     "name": "stdout",
     "output_type": "stream",
     "text": [
      "the sum of [10, 30, 10, 40] is 90\n"
     ]
    }
   ],
   "source": [
    "math=Math()\n",
    "math.total_sum([10,30,10,40])"
   ]
  },
  {
   "cell_type": "code",
   "execution_count": 6,
   "metadata": {},
   "outputs": [],
   "source": [
    "class Math_with():\n",
    "    def sqrt_with(self,number):\n",
    "        try:\n",
    "            results = round(number**0.5,2)\n",
    "            print(f\"the square root of {number} is {results}\")\n",
    "        except:\n",
    "            print(f\"{number} must be a number\")\n"
   ]
  },
  {
   "cell_type": "code",
   "execution_count": 9,
   "metadata": {},
   "outputs": [
    {
     "name": "stdout",
     "output_type": "stream",
     "text": [
      "num must be a number\n"
     ]
    }
   ],
   "source": [
    "math2=Math_with()\n",
    "math2.sqrt_with(\"num\")"
   ]
  },
  {
   "cell_type": "code",
   "execution_count": null,
   "metadata": {},
   "outputs": [],
   "source": []
  }
 ],
 "metadata": {
  "colab": {
   "name": "Programmation Orientée Mathématiques - Exercice S1-3.ipynb",
   "provenance": [],
   "version": "0.3.2"
  },
  "kernelspec": {
   "display_name": "Python 3",
   "language": "python",
   "name": "python3"
  },
  "language_info": {
   "codemirror_mode": {
    "name": "ipython",
    "version": 3
   },
   "file_extension": ".py",
   "mimetype": "text/x-python",
   "name": "python",
   "nbconvert_exporter": "python",
   "pygments_lexer": "ipython3",
   "version": "3.8.6"
  }
 },
 "nbformat": 4,
 "nbformat_minor": 4
}
